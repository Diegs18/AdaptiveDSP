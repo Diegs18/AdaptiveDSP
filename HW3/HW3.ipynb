{
 "cells": [
  {
   "cell_type": "code",
   "execution_count": 6,
   "metadata": {},
   "outputs": [
    {
     "name": "stdout",
     "output_type": "stream",
     "text": [
      "AutoCorr: \n",
      " [[0.10416667 0.125     ]\n",
      " [0.125      0.13888889]]\n",
      "AutoCorr: \n",
      " [[0.10912698 0.13888889 0.        ]\n",
      " [0.13888889 0.13888889 0.        ]\n",
      " [0.         0.         0.        ]]\n"
     ]
    }
   ],
   "source": [
    "import numpy as np\n",
    "\n",
    "X = np.array([[4, 2]]).reshape(2, 1)\n",
    "Rinv = np.array([[1/16]])\n",
    "\n",
    "Rinv = (2+1/2) * (Rinv - (Rinv * X @ X.T * Rinv) / (2 + X * Rinv @ X.T))\n",
    "print(\"AutoCorr: \\n\", Rinv) \n",
    "\n",
    "X = np.array([[4, 2, 1]]).reshape(3, 1)\n",
    "Rinv = np.append(Rinv, np.array([[0,0]]), axis=0)\n",
    "Rinv = np.append(Rinv, np.array([[0],[0],[0]]), axis=1)\n",
    "\n",
    "Rinv = (3+1/3) * (Rinv - (Rinv @ X @ X.T @ Rinv) / (2+ X.T @ Rinv @ X))\n",
    "print(\"AutoCorr: \\n\", Rinv) "
   ]
  },
  {
   "cell_type": "code",
   "execution_count": 47,
   "metadata": {},
   "outputs": [
    {
     "name": "stdout",
     "output_type": "stream",
     "text": [
      "[[ 1.   +0.j     1.   +0.j     1.   +0.j     1.   +0.j     1.   +0.j\n",
      "   1.   +0.j     1.   +0.j     1.   +0.j   ]\n",
      " [ 1.   +0.j     0.707+0.707j  0.   +1.j    -0.707+0.707j -1.   +0.j\n",
      "  -0.707-0.707j -0.   -1.j     0.707-0.707j]\n",
      " [ 1.   +0.j     0.   +1.j    -1.   +0.j    -0.   -1.j     1.   -0.j\n",
      "   0.   +1.j    -1.   +0.j    -0.   -1.j   ]\n",
      " [ 1.   +0.j    -0.707+0.707j -0.   -1.j     0.707+0.707j -1.   +0.j\n",
      "   0.707-0.707j  0.   +1.j    -0.707-0.707j]\n",
      " [ 1.   +0.j    -1.   +0.j     1.   -0.j    -1.   +0.j     1.   -0.j\n",
      "  -1.   +0.j     1.   -0.j    -1.   +0.j   ]\n",
      " [ 1.   +0.j    -0.707-0.707j  0.   +1.j     0.707-0.707j -1.   +0.j\n",
      "   0.707+0.707j -0.   -1.j    -0.707+0.707j]\n",
      " [ 1.   +0.j    -0.   -1.j    -1.   +0.j     0.   +1.j     1.   -0.j\n",
      "  -0.   -1.j    -1.   +0.j    -0.   +1.j   ]\n",
      " [ 1.   +0.j     0.707-0.707j -0.   -1.j    -0.707-0.707j -1.   +0.j\n",
      "  -0.707+0.707j -0.   +1.j     0.707+0.707j]]\n"
     ]
    }
   ],
   "source": [
    "#defining the dft matrix\n",
    "import numpy as np\n",
    "n = 8\n",
    "F = np.zeros([n,n], dtype=complex)\n",
    "for i in range(0, n):\n",
    "    for k in range(0,n):\n",
    "        F[i][k] = np.round(np.exp((2j*np.pi/n)*i*k), 3)\n",
    "\n",
    "print(F)"
   ]
  },
  {
   "cell_type": "code",
   "execution_count": 31,
   "metadata": {},
   "outputs": [
    {
     "name": "stdout",
     "output_type": "stream",
     "text": [
      "[[14  1  2  3  7 11 12 13]\n",
      " [13 14  1  2  3  7 11 12]\n",
      " [12 13 14  1  2  3  7 11]\n",
      " [11 12 13 14  1  2  3  7]\n",
      " [ 7 11 12 13 14  1  2  3]\n",
      " [ 3  7 11 12 13 14  1  2]\n",
      " [ 2  3  7 11 12 13 14  1]\n",
      " [ 1  2  3  7 11 12 13 14]]\n"
     ]
    }
   ],
   "source": [
    "import numpy as np\n",
    "#creating the input matrix\n",
    "\n",
    "# Define the first column\n",
    "first_col = np.array([14, 13, 12, 11, 7, 3, 2, 1])\n",
    "\n",
    "# Create the circulant Toeplitz matrix\n",
    "n = len(first_col)\n",
    "C = np.zeros((n, n), dtype=int)\n",
    "\n",
    "for i in range(n):\n",
    "    C[i, :] = np.roll(first_col, i)\n",
    "\n",
    "print(C.T)\n"
   ]
  },
  {
   "cell_type": "code",
   "execution_count": 40,
   "metadata": {},
   "outputs": [
    {
     "data": {
      "text/plain": [
       "array([63. +0.j        ,  7.+24.14213562j,  7.-24.14213562j,\n",
       "        7. +0.j        ,  7. +4.14213562j,  7. -4.14213562j,\n",
       "        7. +4.j        ,  7. -4.j        ])"
      ]
     },
     "execution_count": 40,
     "metadata": {},
     "output_type": "execute_result"
    }
   ],
   "source": [
    "eig_vals, eig_vects = np.linalg.eig(C)\n",
    "eig_vals"
   ]
  },
  {
   "cell_type": "code",
   "execution_count": 37,
   "metadata": {},
   "outputs": [
    {
     "data": {
      "text/plain": [
       "array([63.-2.18575158e-15j,  7.+2.41421358e+01j,  7.+4.00000000e+00j,\n",
       "        7.+4.14213579e+00j,  7.-2.42861287e-16j,  7.-4.14213579e+00j,\n",
       "        7.-4.00000000e+00j,  7.-2.41421358e+01j])"
      ]
     },
     "execution_count": 37,
     "metadata": {},
     "output_type": "execute_result"
    }
   ],
   "source": [
    "eigen_vals = np.diag(np.linalg.inv(F) @ C @ F) #@ is the matrix multiplier in python\n",
    "eigen_vals"
   ]
  },
  {
   "cell_type": "code",
   "execution_count": 45,
   "metadata": {},
   "outputs": [
    {
     "data": {
      "text/plain": [
       "array([63. +0.j        ,  7.-24.14213562j,  7. -4.j        ,\n",
       "        7. -4.14213562j,  7. +0.j        ,  7. +4.14213562j,\n",
       "        7. +4.j        ,  7.+24.14213562j])"
      ]
     },
     "execution_count": 45,
     "metadata": {},
     "output_type": "execute_result"
    }
   ],
   "source": [
    "np.fft.fft(C[0,:])"
   ]
  },
  {
   "cell_type": "code",
   "execution_count": null,
   "metadata": {},
   "outputs": [],
   "source": []
  }
 ],
 "metadata": {
  "kernelspec": {
   "display_name": "Python 3",
   "language": "python",
   "name": "python3"
  },
  "language_info": {
   "codemirror_mode": {
    "name": "ipython",
    "version": 3
   },
   "file_extension": ".py",
   "mimetype": "text/x-python",
   "name": "python",
   "nbconvert_exporter": "python",
   "pygments_lexer": "ipython3",
   "version": "3.9.8"
  }
 },
 "nbformat": 4,
 "nbformat_minor": 2
}

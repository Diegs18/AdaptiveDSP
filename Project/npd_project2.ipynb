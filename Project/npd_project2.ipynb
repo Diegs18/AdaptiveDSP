{
 "cells": [
  {
   "cell_type": "code",
   "execution_count": null,
   "metadata": {},
   "outputs": [],
   "source": []
  },
  {
   "cell_type": "code",
   "execution_count": 3,
   "metadata": {},
   "outputs": [],
   "source": [
    "import matplotlib.pyplot as plt\n",
    "import scipy.constants as spc\n",
    "import numpy as np"
   ]
  },
  {
   "cell_type": "markdown",
   "metadata": {},
   "source": [
    "[Example Code](https://pysdr.org/content/doa.html)"
   ]
  },
  {
   "cell_type": "markdown",
   "metadata": {},
   "source": [
    "# Setup"
   ]
  },
  {
   "cell_type": "code",
   "execution_count": 4,
   "metadata": {},
   "outputs": [],
   "source": [
    "sample_rate = 1e6\n",
    "N = 10000 #number of samples\n",
    "\n",
    "#create a tone\n",
    "t = np.arange(N)/sample_rate\n",
    "f_tone = 0.02e6\n",
    "tx = np.exp(2j*np.pi*f_tone*t)"
   ]
  },
  {
   "cell_type": "markdown",
   "metadata": {},
   "source": [
    "# Knobs"
   ]
  },
  {
   "cell_type": "code",
   "execution_count": 5,
   "metadata": {},
   "outputs": [
    {
     "name": "stdout",
     "output_type": "stream",
     "text": [
      "[ 1.        +0.j          0.47618256-0.87934645j -0.54650034-0.83745888j]\n"
     ]
    }
   ],
   "source": [
    "d = 0.5 # half wavelength spacing\n",
    "Nr = 3 #array elements\n",
    "theta_degrees = 20 # direction of arrival (feel free to change this, it's arbitrary)\n",
    "theta = theta_degrees / 180 * np.pi # convert to radians\n",
    "s = np.exp(-2j * np.pi * d * np.arange(Nr) * np.sin(theta)) # Steering Vector\n",
    "print(s) # note that it's 3 elements long, it's complex, and the first element is 1+0j"
   ]
  },
  {
   "cell_type": "code",
   "execution_count": 6,
   "metadata": {},
   "outputs": [
    {
     "name": "stdout",
     "output_type": "stream",
     "text": [
      "Steering Vector shape (3, 1)\n",
      "Tx vector shape (1, 10000)\n",
      "Recieved Signal Shape (3, 10000)\n",
      "Weight Shapes (3, 1)\n"
     ]
    }
   ],
   "source": [
    "s = s.reshape(-1,1) #make s into a colum vector\n",
    "print(\"Steering Vector shape\", s.shape) #should be Nrx1\n",
    "tx = tx.reshape(1,-1) #make tx into a row vector\n",
    "print(\"Tx vector shape\", tx.shape) #should be 1xN\n",
    "\n",
    "X = s@tx\n",
    "print(\"Recieved Signal Shape\", X.shape)\n",
    "w = np.zeros([Nr,1])\n",
    "print(\"Weight Shapes\", w.shape)\n"
   ]
  },
  {
   "cell_type": "code",
   "execution_count": 9,
   "metadata": {},
   "outputs": [
    {
     "name": "stderr",
     "output_type": "stream",
     "text": [
      "C:\\Users\\npdho\\AppData\\Local\\Temp\\ipykernel_37552\\1251645677.py:10: DeprecationWarning: Conversion of an array with ndim > 0 to a scalar is deprecated, and will error in future. Ensure you extract a single element from your array before performing this operation. (Deprecated NumPy 1.25.)\n",
      "  e[n] = y - tx[0][n]\n"
     ]
    },
    {
     "ename": "TypeError",
     "evalue": "only length-1 arrays can be converted to Python scalars",
     "output_type": "error",
     "traceback": [
      "\u001b[1;31m---------------------------------------------------------------------------\u001b[0m",
      "\u001b[1;31mTypeError\u001b[0m                                 Traceback (most recent call last)",
      "Cell \u001b[1;32mIn[9], line 10\u001b[0m\n\u001b[0;32m      8\u001b[0m     xv \u001b[38;5;241m=\u001b[39m np\u001b[38;5;241m.\u001b[39marray(xv)\u001b[38;5;241m.\u001b[39mreshape(\u001b[38;5;241m-\u001b[39m\u001b[38;5;241m1\u001b[39m,\u001b[38;5;241m1\u001b[39m) \u001b[38;5;66;03m#1xNr\u001b[39;00m\n\u001b[0;32m      9\u001b[0m     y \u001b[38;5;241m=\u001b[39m w\u001b[38;5;241m.\u001b[39mconj()\u001b[38;5;241m.\u001b[39mT \u001b[38;5;241m@\u001b[39m xv\n\u001b[1;32m---> 10\u001b[0m     \u001b[43me\u001b[49m\u001b[43m[\u001b[49m\u001b[43mn\u001b[49m\u001b[43m]\u001b[49m \u001b[38;5;241m=\u001b[39m y \u001b[38;5;241m-\u001b[39m tx[\u001b[38;5;241m0\u001b[39m][n] \n\u001b[0;32m     11\u001b[0m     w \u001b[38;5;241m=\u001b[39m w \u001b[38;5;241m+\u001b[39m \u001b[38;5;241m2\u001b[39m\u001b[38;5;241m*\u001b[39mmu\u001b[38;5;241m*\u001b[39me[n]\u001b[38;5;241m*\u001b[39mxv\u001b[38;5;241m.\u001b[39mconj()\u001b[38;5;241m.\u001b[39mT\n\u001b[0;32m     13\u001b[0m plt\u001b[38;5;241m.\u001b[39mplot(\u001b[38;5;241m10\u001b[39m\u001b[38;5;241m*\u001b[39mnp\u001b[38;5;241m.\u001b[39mlog10(e\u001b[38;5;241m*\u001b[39me\u001b[38;5;241m+\u001b[39m\u001b[38;5;241m.0000001\u001b[39m))\n",
      "\u001b[1;31mTypeError\u001b[0m: only length-1 arrays can be converted to Python scalars"
     ]
    }
   ],
   "source": [
    "mu = 0.01\n",
    "e = np.zeros_like(tx).reshape(-1,)\n",
    "for n in range(Nr,N): \n",
    "    #define the input vector\n",
    "    xv = []\n",
    "    for i in range(X.shape[0]):\n",
    "        xv.append(X[i][n])\n",
    "    xv = np.array(xv).reshape(-1,1) #1xNr\n",
    "    y = w.conj().T @ xv\n",
    "    e[n] = y - tx[0][n] \n",
    "    w = w + 2*mu*e[n]*xv.conj().T\n",
    "\n",
    "plt.plot(10*np.log10(e*e+.0000001))\n",
    "plt.ylabel('MSE (dB)')\n",
    "plt.xlabel('Iteration')\n",
    "string = 'Mu = ' + str(mu)\n",
    "plt.title(string)\n",
    "plt.show()\n"
   ]
  },
  {
   "cell_type": "code",
   "execution_count": 8,
   "metadata": {},
   "outputs": [
    {
     "data": {
      "text/plain": [
       "array([[0., 0., 0.]])"
      ]
     },
     "execution_count": 8,
     "metadata": {},
     "output_type": "execute_result"
    }
   ],
   "source": [
    "w.conj().T"
   ]
  },
  {
   "cell_type": "code",
   "execution_count": null,
   "metadata": {},
   "outputs": [],
   "source": []
  }
 ],
 "metadata": {
  "kernelspec": {
   "display_name": "Python 3",
   "language": "python",
   "name": "python3"
  },
  "language_info": {
   "codemirror_mode": {
    "name": "ipython",
    "version": 3
   },
   "file_extension": ".py",
   "mimetype": "text/x-python",
   "name": "python",
   "nbconvert_exporter": "python",
   "pygments_lexer": "ipython3",
   "version": "3.9.8"
  }
 },
 "nbformat": 4,
 "nbformat_minor": 2
}
